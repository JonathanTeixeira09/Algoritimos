{
  "nbformat": 4,
  "nbformat_minor": 0,
  "metadata": {
    "colab": {
      "provenance": [],
      "authorship_tag": "ABX9TyNmExZt0nfezsm3mso4jbJa",
      "include_colab_link": true
    },
    "kernelspec": {
      "name": "python3",
      "display_name": "Python 3"
    },
    "language_info": {
      "name": "python"
    }
  },
  "cells": [
    {
      "cell_type": "markdown",
      "metadata": {
        "id": "view-in-github",
        "colab_type": "text"
      },
      "source": [
        "<a href=\"https://colab.research.google.com/github/JonathanTeixeira09/Algoritimos/blob/main/rasterizacaoCirculo.ipynb\" target=\"_parent\"><img src=\"https://colab.research.google.com/assets/colab-badge.svg\" alt=\"Open In Colab\"/></a>"
      ]
    },
    {
      "cell_type": "code",
      "execution_count": null,
      "metadata": {
        "id": "HtIwqamfsvUR"
      },
      "outputs": [],
      "source": [
        "\n",
        "import math\n",
        "import matplotlib.pyplot as plt\n",
        "\n",
        "raio = 4\n",
        "\n",
        "x = 0\n",
        "\n",
        "limite = raio * math.cos(math.radians(45))\n",
        "\n",
        "coordenadas = []\n",
        "\n",
        "while x < limite:\n",
        "    y = round(math.sqrt(raio**2 - x**2))\n",
        "\n",
        "    coordenadas.extend([\n",
        "        (x, y), (y, x), (y, -x), (x, -y),\n",
        "        (-x, -y), (-y, -x), (-y, x), (-x, y)\n",
        "    ])\n",
        "\n",
        "    x += 1\n",
        "\n",
        "x, y = zip(*coordenadas)\n",
        "plt.scatter(x, y)\n",
        "plt.axis('equal')\n",
        "plt.grid(True)\n",
        "plt.show()"
      ]
    }
  ]
}